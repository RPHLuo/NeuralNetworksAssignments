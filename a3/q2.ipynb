{
 "cells": [
  {
   "cell_type": "code",
   "execution_count": 2,
   "metadata": {},
   "outputs": [
    {
     "name": "stderr",
     "output_type": "stream",
     "text": [
      "/anaconda3/envs/tfdeeplearning/lib/python3.5/site-packages/sklearn/cross_validation.py:41: DeprecationWarning: This module was deprecated in version 0.18 in favor of the model_selection module into which all the refactored classes and functions are moved. Also note that the interface of the new CV iterators are different from that of this module. This module will be removed in 0.20.\n",
      "  \"This module will be removed in 0.20.\", DeprecationWarning)\n"
     ]
    }
   ],
   "source": [
    "import numpy as np\n",
    "import tensorflow as tf\n",
    "from tensorflow.python.framework import ops\n",
    "from tensorflow.python.ops import clip_ops\n",
    "import matplotlib.pyplot as plt\n",
    "from sklearn.datasets import load_digits\n",
    "from sklearn.cross_validation import train_test_split"
   ]
  },
  {
   "cell_type": "code",
   "execution_count": 3,
   "metadata": {
    "collapsed": true
   },
   "outputs": [],
   "source": [
    "#Loading MNIST dataset\n",
    "X, y = load_digits(return_X_y=True)"
   ]
  },
  {
   "cell_type": "code",
   "execution_count": 4,
   "metadata": {
    "collapsed": true
   },
   "outputs": [],
   "source": [
    "#Apply stratified sampling\n",
    "X_train ,X_test,y_train,y_test = train_test_split(X,y,train_size = 0.7,random_state = 1)"
   ]
  },
  {
   "cell_type": "code",
   "execution_count": 5,
   "metadata": {},
   "outputs": [
    {
     "name": "stdout",
     "output_type": "stream",
     "text": [
      "We have 1257 observations with 64 dimensions\n",
      "Train with approximately 238 epochs\n"
     ]
    }
   ],
   "source": [
    "\"\"\"Hyper-parameters\"\"\"\n",
    "batch_size = 300            # Batch size for stochastic gradient descent\n",
    "test_size = batch_size      # Temporary heuristic. In future we'd like to decouple testing from batching\n",
    "num_centr = 150             # Number of \"hidden neurons\" that is number of centroids\n",
    "max_iterations = 1000       # Max number of iterations\n",
    "learning_rate = 5e-2        # Learning rate\n",
    "num_classes = 10            # Number of target classes, 10 for MNIST\n",
    "var_rbf = 225               # What variance do you expect workable for the RBF?\n",
    "\n",
    "#Obtain and proclaim sizes\n",
    "N,D = X_train.shape         \n",
    "Ntest = X_test.shape[0]\n",
    "print('We have %s observations with %s dimensions'%(N,D))\n",
    "\n",
    "#Proclaim the epochs\n",
    "epochs = np.floor(batch_size*max_iterations / N)\n",
    "print('Train with approximately %d epochs' %(epochs))"
   ]
  },
  {
   "cell_type": "code",
   "execution_count": 6,
   "metadata": {
    "collapsed": true
   },
   "outputs": [],
   "source": [
    "#Placeholders for data\n",
    "x = tf.placeholder('float',shape=[batch_size,D],name='input_data')\n",
    "y_ = tf.placeholder(tf.int64, shape=[batch_size], name = 'Ground_truth')"
   ]
  },
  {
   "cell_type": "code",
   "execution_count": 7,
   "metadata": {},
   "outputs": [
    {
     "name": "stdout",
     "output_type": "stream",
     "text": [
      "INFO:tensorflow:Summary name cross entropy_loss is illegal; using cross_entropy_loss instead.\n"
     ]
    }
   ],
   "source": [
    "with tf.name_scope(\"Hidden_layer\") as scope:\n",
    "  #Centroids and var are the main trainable parameters of the first layer\n",
    "    centroids = tf.Variable(tf.random_uniform([num_centr,D],dtype=tf.float32),name='centroids')\n",
    "    var = tf.Variable(tf.truncated_normal([num_centr],mean=var_rbf,stddev=5,dtype=tf.float32),name='RBF_variance')\n",
    "  \n",
    "  #For now, we collect the distances\n",
    "    exp_list = []\n",
    "    for i in range(num_centr):\n",
    "        exp_list.append(tf.exp((-1*tf.reduce_sum(tf.square(tf.subtract(x,centroids[i,:])),1))/(2*var[i])))\n",
    "        phi = tf.transpose(tf.stack(exp_list))\n",
    "        \n",
    "with tf.name_scope(\"Output_layer\") as scope:\n",
    "    w = tf.Variable(tf.truncated_normal([num_centr,num_classes], stddev=0.1, dtype=tf.float32),name='weight')\n",
    "    bias = tf.Variable( tf.constant(0.1, shape=[num_classes]),name='bias')\n",
    "        \n",
    "    h = tf.matmul(phi,w)+bias\n",
    "    size2 = tf.shape(h)\n",
    "\n",
    "with tf.name_scope(\"Softmax\") as scope:\n",
    "    loss = tf.nn.sparse_softmax_cross_entropy_with_logits(logits=h,labels=y_)\n",
    "    cost = tf.reduce_sum(loss)\n",
    "    loss_summ = tf.summary.scalar(\"cross entropy_loss\", cost)"
   ]
  },
  {
   "cell_type": "code",
   "execution_count": 8,
   "metadata": {
    "collapsed": true
   },
   "outputs": [],
   "source": [
    "with tf.name_scope(\"train\") as scope:\n",
    "    tvars = tf.trainable_variables()\n",
    "    #We clip the gradients to prevent explosion\n",
    "    grads = tf.gradients(cost, tvars)\n",
    "    optimizer = tf.train.AdamOptimizer(learning_rate)\n",
    "    gradients = zip(grads, tvars)\n",
    "    train_step = optimizer.apply_gradients(gradients)\n",
    "#     The following block plots for every trainable variable\n",
    "    numel = tf.constant([[0]])\n",
    "    for gradient, variable in gradients:\n",
    "        if isinstance(gradient, ops.IndexedSlices):\n",
    "            grad_values = gradient.values\n",
    "        else:\n",
    "            grad_values = gradient\n",
    "        numel += tf.reduce_sum(tf.size(variable))\n",
    "        h1 = tf.histogram_summary(variable.name, variable)\n",
    "        h2 = tf.histogram_summary(variable.name + \"/gradients\", grad_values)\n",
    "        h3 = tf.histogram_summary(variable.name + \"/gradient_norm\", clip_ops.global_norm([grad_values]))\n",
    "with tf.name_scope(\"Evaluating\") as scope:\n",
    "    correct_prediction = tf.equal(tf.argmax(h,1), y_)\n",
    "    accuracy = tf.reduce_mean(tf.cast(correct_prediction, \"float\"))\n",
    "    accuracy_summary = tf.summary.scalar(\"accuracy\", accuracy)\n",
    "    \n",
    "merged = tf.summary.merge_all()\n",
    "\n",
    "\n",
    "perf_collect = np.zeros((4,int(np.floor(max_iterations /100))))"
   ]
  },
  {
   "cell_type": "code",
   "execution_count": 9,
   "metadata": {},
   "outputs": [
    {
     "name": "stdout",
     "output_type": "stream",
     "text": [
      "Start session\n",
      "WARNING:tensorflow:Passing a `GraphDef` to the SummaryWriter is deprecated. Pass a `Graph` object instead, such as `sess.graph`.\n",
      "WARNING:tensorflow:From /anaconda3/envs/tfdeeplearning/lib/python3.5/site-packages/tensorflow/python/util/tf_should_use.py:175: initialize_all_variables (from tensorflow.python.ops.variables) is deprecated and will be removed after 2017-03-02.\n",
      "Instructions for updating:\n",
      "Use `tf.global_variables_initializer` instead.\n",
      "Estimated accuracy at iteration 1 of 1000: 0.0833333\n",
      "Estimated accuracy at iteration 101 of 1000: 0.82\n",
      "Estimated accuracy at iteration 201 of 1000: 0.97\n",
      "Estimated accuracy at iteration 301 of 1000: 0.98\n",
      "Estimated accuracy at iteration 401 of 1000: 0.97\n",
      "Estimated accuracy at iteration 501 of 1000: 0.973333\n",
      "Estimated accuracy at iteration 601 of 1000: 0.983333\n",
      "Estimated accuracy at iteration 701 of 1000: 0.976667\n",
      "Estimated accuracy at iteration 801 of 1000: 0.973333\n",
      "Estimated accuracy at iteration 901 of 1000: 0.97\n"
     ]
    }
   ],
   "source": [
    "#Begin Training\n",
    "with tf.Session() as sess:\n",
    "    with tf.device(\"/cpu:0\"):\n",
    "        print('Start session')\n",
    "        writer = tf.summary.FileWriter(\"./log_tb\", sess.graph_def)\n",
    "\n",
    "        step = 0\n",
    "        sess.run(tf.initialize_all_variables())\n",
    "  \n",
    "    for i in range(max_iterations):\n",
    "        batch_ind = np.random.choice(N,batch_size,replace=False)\n",
    "        if i%100 == 1:\n",
    "            #Measure train performance\n",
    "            result = sess.run([cost,accuracy,train_step],feed_dict={x:X_train[batch_ind], y_: y_train[batch_ind]})\n",
    "            perf_collect[0,step] = result[0]\n",
    "            perf_collect[2,step] = result[1]\n",
    "            \n",
    "            #Measure test performance\n",
    "            test_ind = np.random.choice(Ntest,test_size,replace=False)\n",
    "            result = sess.run([cost,accuracy,merged], feed_dict={ x: X_test[test_ind], y_: y_test[test_ind]})\n",
    "            perf_collect[1,step] = result[0]\n",
    "            perf_collect[3,step] = result[1]\n",
    "      \n",
    "            #Write information for Tensorboard\n",
    "            summary_str = result[2]\n",
    "            writer.add_summary(summary_str, i)\n",
    "            writer.flush()  #Don't forget this command! It makes sure Python writes the summaries to the log-file\n",
    "        \n",
    "            #Print intermediate numbers to terminal\n",
    "            acc = result[1]\n",
    "            print(\"Estimated accuracy at iteration %s of %s: %s\" % (i,max_iterations, acc))\n",
    "            step += 1\n",
    "        else:\n",
    "            sess.run(train_step,feed_dict={x:X_train[batch_ind], y_: y_train[batch_ind]})"
   ]
  },
  {
   "cell_type": "code",
   "execution_count": 10,
   "metadata": {
    "scrolled": true
   },
   "outputs": [
    {
     "data": {
      "image/png": "[encoded data removed]",
      "text/plain": [
       "<matplotlib.figure.Figure at 0x11e5769b0>"
      ]
     },
     "metadata": {},
     "output_type": "display_data"
    },
    {
     "data": {
      "image/png": "[encoded data removed]",
      "text/plain": [
       "<matplotlib.figure.Figure at 0x128761d30>"
      ]
     },
     "metadata": {},
     "output_type": "display_data"
    }
   ],
   "source": [
    "\"\"\"Additional plots\"\"\"\n",
    "plt.figure()\n",
    "plt.plot(perf_collect[2],label = 'Train accuracy')\n",
    "plt.plot(perf_collect[3],label = 'Test accuracy')\n",
    "plt.legend()\n",
    "plt.show()\n",
    "\n",
    "plt.figure()\n",
    "plt.plot(perf_collect[0],label = 'Train cost')\n",
    "plt.plot(perf_collect[1],label = 'Test cost')\n",
    "plt.legend()\n",
    "plt.show()"
   ]
  },
  {
   "cell_type": "markdown",
   "metadata": {},
   "source": [
    "### Changing the number of teh hidden later"
   ]
  },
  {
   "cell_type": "code",
   "execution_count": 11,
   "metadata": {
    "collapsed": true
   },
   "outputs": [],
   "source": [
    "num_centr = 300"
   ]
  },
  {
   "cell_type": "code",
   "execution_count": 12,
   "metadata": {},
   "outputs": [
    {
     "name": "stdout",
     "output_type": "stream",
     "text": [
      "INFO:tensorflow:Summary name cross entropy_loss is illegal; using cross_entropy_loss instead.\n"
     ]
    }
   ],
   "source": [
    "with tf.name_scope(\"Hidden_layer\") as scope:\n",
    "  #Centroids and var are the main trainable parameters of the first layer\n",
    "    centroids = tf.Variable(tf.random_uniform([num_centr,D],dtype=tf.float32),name='centroids')\n",
    "    var = tf.Variable(tf.truncated_normal([num_centr],mean=var_rbf,stddev=5,dtype=tf.float32),name='RBF_variance')\n",
    "  \n",
    "  #For now, we collect the distances\n",
    "    exp_list = []\n",
    "    for i in range(num_centr):\n",
    "        exp_list.append(tf.exp((-1*tf.reduce_sum(tf.square(tf.subtract(x,centroids[i,:])),1))/(2*var[i])))\n",
    "        phi = tf.transpose(tf.stack(exp_list))\n",
    "        \n",
    "with tf.name_scope(\"Output_layer\") as scope:\n",
    "    w = tf.Variable(tf.truncated_normal([num_centr,num_classes], stddev=0.1, dtype=tf.float32),name='weight')\n",
    "    bias = tf.Variable( tf.constant(0.1, shape=[num_classes]),name='bias')\n",
    "    \n",
    "    h = tf.matmul(phi,w)+bias\n",
    "    size2 = tf.shape(h)\n",
    "\n",
    "with tf.name_scope(\"Softmax\") as scope:\n",
    "    loss = tf.nn.sparse_softmax_cross_entropy_with_logits(logits=h,labels=y_)\n",
    "    cost = tf.reduce_sum(loss)\n",
    "    loss_summ = tf.summary.scalar(\"cross entropy_loss\", cost)"
   ]
  },
  {
   "cell_type": "code",
   "execution_count": null,
   "metadata": {
    "collapsed": true
   },
   "outputs": [],
   "source": [
    "with tf.name_scope(\"train\") as scope:\n",
    "    tvars = tf.trainable_variables()\n",
    "    #We clip the gradients to prevent explosion\n",
    "    grads = tf.gradients(cost, tvars)\n",
    "    optimizer = tf.train.AdamOptimizer(learning_rate)\n",
    "    gradients = zip(grads, tvars)\n",
    "    train_step = optimizer.apply_gradients(gradients)\n",
    "#     The following block plots for every trainable variable\n",
    "\n",
    "    numel = tf.constant([[0]])\n",
    "    for gradient, variable in gradients:\n",
    "        if isinstance(gradient, ops.IndexedSlices):\n",
    "            grad_values = gradient.values\n",
    "        else:\n",
    "            grad_values = gradient\n",
    "        numel += tf.reduce_sum(tf.size(variable))\n",
    "        h1 = tf.histogram_summary(variable.name, variable)\n",
    "        h2 = tf.histogram_summary(variable.name + \"/gradients\", grad_values)\n",
    "        h3 = tf.histogram_summary(variable.name + \"/gradient_norm\", clip_ops.global_norm([grad_values]))\n",
    "with tf.name_scope(\"Evaluating\") as scope:\n",
    "    correct_prediction = tf.equal(tf.argmax(h,1), y_)\n",
    "    accuracy = tf.reduce_mean(tf.cast(correct_prediction, \"float\"))\n",
    "    accuracy_summary = tf.summary.scalar(\"accuracy\", accuracy)\n",
    "    \n",
    "merged = tf.summary.merge_all()\n",
    "\n",
    "\n",
    "# For now, we collect performances in a Numpy array.\n",
    "# In future releases, I hope TensorBoard allows for more\n",
    "# flexibility in plotting\n",
    "perf_collect = np.zeros((4,int(np.floor(max_iterations /100))))"
   ]
  },
  {
   "cell_type": "code",
   "execution_count": null,
   "metadata": {},
   "outputs": [
    {
     "name": "stdout",
     "output_type": "stream",
     "text": [
      "Start session\n",
      "WARNING:tensorflow:Passing a `GraphDef` to the SummaryWriter is deprecated. Pass a `Graph` object instead, such as `sess.graph`.\n",
      "WARNING:tensorflow:From /anaconda3/envs/tfdeeplearning/lib/python3.5/site-packages/tensorflow/python/util/tf_should_use.py:175: initialize_all_variables (from tensorflow.python.ops.variables) is deprecated and will be removed after 2017-03-02.\n",
      "Instructions for updating:\n",
      "Use `tf.global_variables_initializer` instead.\n",
      "Estimated accuracy at iteration 1 of 1000: 0.0966667\n",
      "Estimated accuracy at iteration 101 of 1000: 0.853333\n"
     ]
    }
   ],
   "source": [
    "#Begin Training\n",
    "with tf.Session() as sess:\n",
    "    with tf.device(\"/cpu:0\"):\n",
    "        print('Start session')\n",
    "        writer = tf.summary.FileWriter(\"./log_tb\", sess.graph_def)\n",
    "\n",
    "        step = 0\n",
    "        sess.run(tf.initialize_all_variables())\n",
    "    \n",
    "#    #Debugging\n",
    "#    batch_ind = np.random.choice(N,batch_size,replace=False)\n",
    "#    result = sess.run([phi],feed_dict={x:X_train[batch_ind], y_: y_train[batch_ind]})\n",
    "#    print(result[0])\n",
    "    \n",
    "    \n",
    "    for i in range(max_iterations):\n",
    "        batch_ind = np.random.choice(N,batch_size,replace=False)\n",
    "        if i%100 == 1:\n",
    "            #Measure train performance\n",
    "            result = sess.run([cost,accuracy,train_step],feed_dict={x:X_train[batch_ind], y_: y_train[batch_ind]})\n",
    "            perf_collect[0,step] = result[0]\n",
    "            perf_collect[2,step] = result[1]\n",
    "            \n",
    "            #Measure test performance\n",
    "            test_ind = np.random.choice(Ntest,test_size,replace=False)\n",
    "            result = sess.run([cost,accuracy,merged], feed_dict={ x: X_test[test_ind], y_: y_test[test_ind]})\n",
    "            perf_collect[1,step] = result[0]\n",
    "            perf_collect[3,step] = result[1]\n",
    "      \n",
    "            #Write information for Tensorboard\n",
    "            summary_str = result[2]\n",
    "            writer.add_summary(summary_str, i)\n",
    "            writer.flush()  #Don't forget this command! It makes sure Python writes the summaries to the log-file\n",
    "            \n",
    "            #Print intermediate numbers to terminal\n",
    "            acc = result[1]\n",
    "            print(\"Estimated accuracy at iteration %s of %s: %s\" % (i,max_iterations, acc))\n",
    "            step += 1\n",
    "        else:\n",
    "            sess.run(train_step,feed_dict={x:X_train[batch_ind], y_: y_train[batch_ind]})"
   ]
  },
  {
   "cell_type": "code",
   "execution_count": null,
   "metadata": {
    "scrolled": true
   },
   "outputs": [],
   "source": [
    "\"\"\"Additional plots\"\"\"\n",
    "plt.figure()\n",
    "plt.plot(perf_collect[2],label = 'Train accuracy')\n",
    "plt.plot(perf_collect[3],label = 'Test accuracy')\n",
    "plt.legend()\n",
    "plt.show()\n",
    "\n",
    "plt.figure()\n",
    "plt.plot(perf_collect[0],label = 'Train cost')\n",
    "plt.plot(perf_collect[1],label = 'Test cost')\n",
    "plt.legend()\n",
    "plt.show()"
   ]
  },
  {
   "cell_type": "markdown",
   "metadata": {},
   "source": [
    "### Adding a dropout"
   ]
  },
  {
   "cell_type": "code",
   "execution_count": null,
   "metadata": {},
   "outputs": [],
   "source": [
    "with tf.name_scope(\"Hidden_layer\") as scope:\n",
    "  #Centroids and var are the main trainable parameters of the first layer\n",
    "    centroids = tf.Variable(tf.random_uniform([num_centr,D],dtype=tf.float32),name='centroids')\n",
    "    var = tf.Variable(tf.truncated_normal([num_centr],mean=var_rbf,stddev=5,dtype=tf.float32),name='RBF_variance')\n",
    "  \n",
    "  #For now, we collect the distances\n",
    "    exp_list = []\n",
    "    for i in range(num_centr):\n",
    "        exp_list.append(tf.exp((-1*tf.reduce_sum(tf.square(tf.subtract(x,centroids[i,:])),1))/(2*var[i])))\n",
    "        phi = tf.transpose(tf.stack(exp_list))\n",
    "        \n",
    "with tf.name_scope(\"Output_layer\") as scope:\n",
    "    w = tf.Variable(tf.truncated_normal([num_centr,num_classes], stddev=0.1, dtype=tf.float32),name='weight')\n",
    "    bias = tf.Variable( tf.constant(0.1, shape=[num_classes]),name='bias')\n",
    "    \n",
    "    h = tf.matmul(phi,w)+bias\n",
    "    #Adding dropout\n",
    "    h = tf.nn.dropout(h, 0.5) \n",
    "    \n",
    "    size2 = tf.shape(h)\n",
    "\n",
    "with tf.name_scope(\"Softmax\") as scope:\n",
    "    loss = tf.nn.sparse_softmax_cross_entropy_with_logits(logits=h,labels=y_)\n",
    "    cost = tf.reduce_sum(loss)\n",
    "    loss_summ = tf.summary.scalar(\"cross entropy_loss\", cost)"
   ]
  },
  {
   "cell_type": "code",
   "execution_count": null,
   "metadata": {
    "collapsed": true
   },
   "outputs": [],
   "source": [
    "with tf.name_scope(\"train\") as scope:\n",
    "    tvars = tf.trainable_variables()\n",
    "    #We clip the gradients to prevent explosion\n",
    "    grads = tf.gradients(cost, tvars)\n",
    "    optimizer = tf.train.AdamOptimizer(learning_rate)\n",
    "    gradients = zip(grads, tvars)\n",
    "    train_step = optimizer.apply_gradients(gradients)\n",
    "#     The following block plots for every trainable variable\n",
    "\n",
    "    numel = tf.constant([[0]])\n",
    "    for gradient, variable in gradients:\n",
    "        if isinstance(gradient, ops.IndexedSlices):\n",
    "            grad_values = gradient.values\n",
    "        else:\n",
    "            grad_values = gradient\n",
    "        numel += tf.reduce_sum(tf.size(variable))\n",
    "        h1 = tf.histogram_summary(variable.name, variable)\n",
    "        h2 = tf.histogram_summary(variable.name + \"/gradients\", grad_values)\n",
    "        h3 = tf.histogram_summary(variable.name + \"/gradient_norm\", clip_ops.global_norm([grad_values]))\n",
    "with tf.name_scope(\"Evaluating\") as scope:\n",
    "    correct_prediction = tf.equal(tf.argmax(h,1), y_)\n",
    "    accuracy = tf.reduce_mean(tf.cast(correct_prediction, \"float\"))\n",
    "    accuracy_summary = tf.summary.scalar(\"accuracy\", accuracy)\n",
    "    \n",
    "merged = tf.summary.merge_all()\n",
    "\n",
    "perf_collect = np.zeros((4,int(np.floor(max_iterations /100))))"
   ]
  },
  {
   "cell_type": "code",
   "execution_count": null,
   "metadata": {},
   "outputs": [],
   "source": [
    "#Begin Training\n",
    "with tf.Session() as sess:\n",
    "    with tf.device(\"/cpu:0\"):\n",
    "        print('Start session')\n",
    "        writer = tf.summary.FileWriter(\"./log_tb\", sess.graph_def)\n",
    "\n",
    "        step = 0\n",
    "        sess.run(tf.initialize_all_variables())\n",
    "   \n",
    "    for i in range(max_iterations):\n",
    "        batch_ind = np.random.choice(N,batch_size,replace=False)\n",
    "        if i%100 == 1:\n",
    "            #Measure train performance\n",
    "            result = sess.run([cost,accuracy,train_step],feed_dict={x:X_train[batch_ind], y_: y_train[batch_ind]})\n",
    "            perf_collect[0,step] = result[0]\n",
    "            perf_collect[2,step] = result[1]\n",
    "            \n",
    "            #Measure test performance\n",
    "            test_ind = np.random.choice(Ntest,test_size,replace=False)\n",
    "            result = sess.run([cost,accuracy,merged], feed_dict={ x: X_test[test_ind], y_: y_test[test_ind]})\n",
    "            perf_collect[1,step] = result[0]\n",
    "            perf_collect[3,step] = result[1]\n",
    "      \n",
    "            #Write information for Tensorboard\n",
    "            summary_str = result[2]\n",
    "            writer.add_summary(summary_str, i)\n",
    "            writer.flush()  #Don't forget this command! It makes sure Python writes the summaries to the log-file\n",
    "        \n",
    "            #Print intermediate numbers to terminal\n",
    "            acc = result[1]\n",
    "            print(\"Estimated accuracy at iteration %s of %s: %s\" % (i,max_iterations, acc))\n",
    "            step += 1\n",
    "        else:\n",
    "            sess.run(train_step,feed_dict={x:X_train[batch_ind], y_: y_train[batch_ind]})"
   ]
  },
  {
   "cell_type": "code",
   "execution_count": null,
   "metadata": {
    "scrolled": true
   },
   "outputs": [],
   "source": [
    "\"\"\"Additional plots\"\"\"\n",
    "plt.figure()\n",
    "plt.plot(perf_collect[2],label = 'Train accuracy')\n",
    "plt.plot(perf_collect[3],label = 'Test accuracy')\n",
    "plt.legend()\n",
    "plt.title('Dropout- Train vs Test Accuracy')\n",
    "plt.show()\n",
    "\n",
    "plt.figure()\n",
    "plt.plot(perf_collect[0],label = 'Train cost')\n",
    "plt.plot(perf_collect[1],label = 'Test cost')\n",
    "plt.legend()\n",
    "plt.title('Dropout- Train vs Test Cost')\n",
    "plt.show()"
   ]
  }
 ],
 "metadata": {
  "kernelspec": {
   "display_name": "Python 3",
   "language": "python",
   "name": "python3"
  },
  "language_info": {
   "codemirror_mode": {
    "name": "ipython",
    "version": 3
   },
   "file_extension": ".py",
   "mimetype": "text/x-python",
   "name": "python",
   "nbconvert_exporter": "python",
   "pygments_lexer": "ipython3",
   "version": "3.5.4"
  }
 },
 "nbformat": 4,
 "nbformat_minor": 2
}
