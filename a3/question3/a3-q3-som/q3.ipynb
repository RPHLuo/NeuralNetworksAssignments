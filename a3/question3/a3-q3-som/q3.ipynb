{
 "cells": [
  {
   "cell_type": "markdown",
   "metadata": {},
   "source": [
    "# Question 3\n",
    "\n",
    "## * Important information\n",
    "\n",
    "### -<span style=\"color:blue\">Use self organizing maps as a substitute for K-means. </span>\n",
    "### -<span style=\"color:green\">Sample the data to include only images of '1' and '5' using sk-learn to load the data.</span>\n",
    "### -<span style=\"color:orange\">Document the dimension of the SOM computed and the learning parameters used to generate it</span>\n",
    "### -<span style=\"color:purple\">Provide 2D plot of the regions for '1' and '5' for both SOM and K-means solutions.</span>"
   ]
  },
  {
   "cell_type": "markdown",
   "metadata": {},
   "source": [
    "## * <span style=\"color:red\">Import Libraries</span>"
   ]
  },
  {
   "cell_type": "code",
   "execution_count": 1,
   "metadata": {
    "collapsed": true
   },
   "outputs": [],
   "source": [
    "import numpy as np # Library for scientific computations, we are mainly using it for creating arrays.\n",
    "import matplotlib.pyplot as plt # Allows us to plot diagrams\n",
    "import matplotlib.patches as patches # Extra plotting functionality\n",
    "from minisom import MiniSom # Library has an implementation of a minimilistic SOM algorithm\n",
    "from random import shuffle # Used to shuffle the dataset as two list ones and fives.\n",
    "import pandas as pd"
   ]
  },
  {
   "cell_type": "markdown",
   "metadata": {},
   "source": [
    "### -<span style=\"color:green\">Sample the data to include only images of '1' and '5' using sk-learn to load the data.</span>"
   ]
  },
  {
   "cell_type": "markdown",
   "metadata": {},
   "source": [
    "Iris is the well-known Fisher's Iris data set. He measured the length and width of the sepal and petal (two parts of the flower) of three species of Iris. Each row contains the measurements from one flower and there are measurements for 50 flowers of each type, hence the dimensions of iris.data. The actual type of the flower is coded as 0, 1, or 2 in iris.target; you can recover the actual species names (as strings) from iris.target_name.\n",
    "\n",
    "Fisher showed that his then-new discriminant method could separate the three species based on their sepal and petal measurements and it's been a standard classification data set ever since."
   ]
  },
  {
   "cell_type": "code",
   "execution_count": 2,
   "metadata": {},
   "outputs": [
    {
     "data": {
      "text/html": [
       "<div>\n",
       "<style>\n",
       "    .dataframe thead tr:only-child th {\n",
       "        text-align: right;\n",
       "    }\n",
       "\n",
       "    .dataframe thead th {\n",
       "        text-align: left;\n",
       "    }\n",
       "\n",
       "    .dataframe tbody tr th {\n",
       "        vertical-align: top;\n",
       "    }\n",
       "</style>\n",
       "<table border=\"1\" class=\"dataframe\">\n",
       "  <thead>\n",
       "    <tr style=\"text-align: right;\">\n",
       "      <th></th>\n",
       "      <th>0</th>\n",
       "      <th>1</th>\n",
       "    </tr>\n",
       "  </thead>\n",
       "  <tbody>\n",
       "    <tr>\n",
       "      <th>0</th>\n",
       "      <td>[0, 0, 0, 0, 0, 0, 0, 0, 0, 0, 0, 0, 0, 0, 0, ...</td>\n",
       "      <td>5</td>\n",
       "    </tr>\n",
       "    <tr>\n",
       "      <th>1</th>\n",
       "      <td>[0, 0, 0, 0, 0, 0, 0, 0, 0, 0, 0, 0, 0, 0, 0, ...</td>\n",
       "      <td>1</td>\n",
       "    </tr>\n",
       "    <tr>\n",
       "      <th>2</th>\n",
       "      <td>[0, 0, 0, 0, 0, 0, 0, 0, 0, 0, 0, 0, 0, 0, 0, ...</td>\n",
       "      <td>1</td>\n",
       "    </tr>\n",
       "    <tr>\n",
       "      <th>3</th>\n",
       "      <td>[0, 0, 0, 0, 0, 0, 0, 0, 0, 0, 0, 0, 0, 0, 0, ...</td>\n",
       "      <td>1</td>\n",
       "    </tr>\n",
       "    <tr>\n",
       "      <th>4</th>\n",
       "      <td>[0, 0, 0, 0, 0, 0, 0, 0, 0, 0, 0, 0, 0, 0, 0, ...</td>\n",
       "      <td>5</td>\n",
       "    </tr>\n",
       "  </tbody>\n",
       "</table>\n",
       "</div>"
      ],
      "text/plain": [
       "                                                   0  1\n",
       "0  [0, 0, 0, 0, 0, 0, 0, 0, 0, 0, 0, 0, 0, 0, 0, ...  5\n",
       "1  [0, 0, 0, 0, 0, 0, 0, 0, 0, 0, 0, 0, 0, 0, 0, ...  1\n",
       "2  [0, 0, 0, 0, 0, 0, 0, 0, 0, 0, 0, 0, 0, 0, 0, ...  1\n",
       "3  [0, 0, 0, 0, 0, 0, 0, 0, 0, 0, 0, 0, 0, 0, 0, ...  1\n",
       "4  [0, 0, 0, 0, 0, 0, 0, 0, 0, 0, 0, 0, 0, 0, 0, ...  5"
      ]
     },
     "execution_count": 2,
     "metadata": {},
     "output_type": "execute_result"
    }
   ],
   "source": [
    "from sklearn.datasets import fetch_mldata\n",
    "mnist = fetch_mldata('MNIST original', data_home='.cache')\n",
    "list_of_types = mnist.target.tolist() ## refer the paragpraph above the target allows you to choose the type of data you want\n",
    "                          ## We need as a list to partition it\n",
    "\n",
    "def partition_the_list(label):\n",
    "    return [(x, label) for x in mnist.data[list_of_types.index(label) : list_of_types.index(label + 1)]]\n",
    "\n",
    "\n",
    "#Getting a dataset of ones and fives as a tuple\n",
    "ones = partition_the_list(1)\n",
    "fives = partition_the_list(5)\n",
    "\n",
    "dataset = ones + fives\n",
    "shuffle(dataset)\n",
    "df = pd.DataFrame(dataset)\n",
    "df.head()"
   ]
  },
  {
   "cell_type": "markdown",
   "metadata": {},
   "source": [
    "### -<span style=\"color:orange\">Document the dimension of the SOM computed and the learning parameters used to generate it</span>"
   ]
  },
  {
   "cell_type": "markdown",
   "metadata": {},
   "source": [
    "       dim: A rule of thumb to set the size of the grid for a dimensionality\n",
    "            reduction task is that it should contain 5*sqrt(N) neurons\n",
    "            where N is the number of samples in the dataset to analyze.\n",
    "            \n",
    "       sigma : float, optional (default=1.0)\n",
    "            Spread of the neighborhood function, needs to be adequate\n",
    "            to the dimensions of the map."
   ]
  },
  {
   "cell_type": "code",
   "execution_count": 6,
   "metadata": {
    "collapsed": true
   },
   "outputs": [],
   "source": [
    "dim = int(np.sqrt(5*np.sqrt(len(dataset))))\n",
    "x_dim = dim\n",
    "y_dim = dim\n",
    "input_len = 784\n",
    "sigma = .85 \n",
    "learning_rate = .20\n",
    "\n",
    "som = MiniSom(x_dim, y_dim, input_len, sigma=sigma, learning_rate=learning_rate)"
   ]
  },
  {
   "cell_type": "markdown",
   "metadata": {},
   "source": [
    "### -<span style=\"color:purple\">Provide 2D plot of the regions for '1' and '5' for both SOM and K-means solutions.</span>"
   ]
  },
  {
   "cell_type": "code",
   "execution_count": null,
   "metadata": {
    "collapsed": true
   },
   "outputs": [],
   "source": [
    "def som_plot(title):\n",
    "    plt.figure(figsize=(5, 5))\n",
    "\n",
    "    for index, item in enumerate(dataset):\n",
    "        image, label = item\n",
    "        i, j = som.winner(image)\n",
    "        plt.text(i, j, str(label), color=plt.cm.Dark2_r(label / 5.), fontdict={'size': 11})\n",
    "    plt.axis([0, x_dim, 0, y_dim])\n",
    "    plt.title(title)\n",
    "    plt.show()"
   ]
  },
  {
   "cell_type": "code",
   "execution_count": null,
   "metadata": {},
   "outputs": [],
   "source": [
    "som_plot('SOM - before training')\n",
    "epochs = 2000\n",
    "som.train_random([i[0] for i in dataset[:1024]], epochs)\n",
    "som_plot('SOM - after training %s epochs' % epochs)"
   ]
  },
  {
   "cell_type": "code",
   "execution_count": null,
   "metadata": {
    "collapsed": true
   },
   "outputs": [],
   "source": []
  }
 ],
 "metadata": {
  "kernelspec": {
   "display_name": "Python 3",
   "language": "python",
   "name": "python3"
  },
  "language_info": {
   "codemirror_mode": {
    "name": "ipython",
    "version": 3
   },
   "file_extension": ".py",
   "mimetype": "text/x-python",
   "name": "python",
   "nbconvert_exporter": "python",
   "pygments_lexer": "ipython3",
   "version": "3.5.4"
  }
 },
 "nbformat": 4,
 "nbformat_minor": 2
}
