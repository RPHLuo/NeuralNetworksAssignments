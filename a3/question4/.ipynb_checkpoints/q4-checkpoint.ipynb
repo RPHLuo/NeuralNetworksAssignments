{
 "cells": [
  {
   "cell_type": "markdown",
   "metadata": {},
   "source": [
    "## This question has been inspired from a couple of online resources. For information please email us at nazalkassm@cmail.carleton.ca"
   ]
  },
  {
   "cell_type": "code",
   "execution_count": 78,
   "metadata": {},
   "outputs": [],
   "source": [
    "from sklearn.datasets import fetch_lfw_people\n",
    "from sklearn.decomposition import PCA # Allows us to use PCA\n",
    "import numpy as np\n",
    "import matplotlib.pyplot as plt\n",
    "import scipy.misc\n",
    "from sklearn.model_selection import train_test_split\n",
    "import tensorflow as tf\n",
    "import math"
   ]
  },
  {
   "cell_type": "markdown",
   "metadata": {},
   "source": [
    "## Taking care of inputing the data"
   ]
  },
  {
   "cell_type": "code",
   "execution_count": 79,
   "metadata": {
    "collapsed": true
   },
   "outputs": [],
   "source": [
    "def input_data(raw_data=True):\n",
    "    \n",
    "    lfw_people = fetch_lfw_people(min_faces_per_person=70, resize=0.4)\n",
    "    \n",
    "    # introspect the images arrays to find the shapes (for plotting)\n",
    "    n_samples, h, w = lfw_people.images.shape\n",
    "\n",
    "    # for machine learning we use the 2 data directly (as relative pixel\n",
    "    # positions info is ignored by this model)\n",
    "    X = lfw_people.data\n",
    "    n_features = X.shape[1]\n",
    "\n",
    "    # the label to predict is the id of the person\n",
    "    y = lfw_people.target\n",
    "    target_names = lfw_people.target_names\n",
    "    n_classes = target_names.shape[0]\n",
    "    \n",
    "    print(\"Total dataset size:\")\n",
    "    print(\"n_samples: %d\" % n_samples)\n",
    "    print(\"n_features: %d\" % n_features)\n",
    "    print(\"n_classes: %d\" % n_classes)\n",
    "\n",
    "    # One-hot the label data\n",
    "    labels = np.zeros(shape=(y.shape[0], y.max() + 1))\n",
    "    for i, x in enumerate(y):\n",
    "        labels[i][x] = 1\n",
    "\n",
    "    if raw_data:\n",
    "        \n",
    "        X = X / X.max() # Regularize the input data\n",
    "        \n",
    "    else:\n",
    "        # Compute principle components of input data\n",
    "        X = PCA(n_components=150, svd_solver='randomized', whiten=True).fit_transform(X)\n",
    "        \n",
    "\n",
    "    return X, labels"
   ]
  },
  {
   "cell_type": "markdown",
   "metadata": {},
   "source": [
    "## Playing with the data"
   ]
  },
  {
   "cell_type": "code",
   "execution_count": 80,
   "metadata": {
    "collapsed": true
   },
   "outputs": [],
   "source": [
    "lfw_people = fetch_lfw_people(min_faces_per_person=70, resize=0.4)"
   ]
  },
  {
   "cell_type": "code",
   "execution_count": 81,
   "metadata": {},
   "outputs": [
    {
     "data": {
      "image/png": "[encoded data removed]",
      "text/plain": [
       "<matplotlib.figure.Figure at 0x11d6ec320>"
      ]
     },
     "metadata": {},
     "output_type": "display_data"
    }
   ],
   "source": [
    "image1= lfw_people.images[0]\n",
    "plt.imshow(image1)\n",
    "plt.show()"
   ]
  },
  {
   "cell_type": "code",
   "execution_count": 82,
   "metadata": {
    "collapsed": true
   },
   "outputs": [],
   "source": [
    "image2 = lfw_people.data[0,:]"
   ]
  },
  {
   "cell_type": "code",
   "execution_count": 83,
   "metadata": {},
   "outputs": [
    {
     "name": "stdout",
     "output_type": "stream",
     "text": [
      "(1850,)\n",
      "(50, 37)\n"
     ]
    }
   ],
   "source": [
    "print(image2.shape)\n",
    "print(image1.shape)"
   ]
  },
  {
   "cell_type": "code",
   "execution_count": 84,
   "metadata": {
    "collapsed": true
   },
   "outputs": [],
   "source": [
    "image3 = image2.reshape(50,37)"
   ]
  },
  {
   "cell_type": "code",
   "execution_count": 85,
   "metadata": {},
   "outputs": [
    {
     "data": {
      "image/png": "[encoded data removed]",
      "text/plain": [
       "<matplotlib.figure.Figure at 0x11aff5be0>"
      ]
     },
     "metadata": {},
     "output_type": "display_data"
    }
   ],
   "source": [
    "plt.imshow(image3)\n",
    "plt.show()"
   ]
  },
  {
   "cell_type": "markdown",
   "metadata": {},
   "source": [
    "## Defining our Neural Network"
   ]
  },
  {
   "cell_type": "code",
   "execution_count": 90,
   "metadata": {
    "collapsed": true
   },
   "outputs": [],
   "source": [
    "class FeedForwardNetwork(object):\n",
    "    def __init__(self, hidden_layer1, hidden_layer2, output_layer, input_size=1850, learning_rate=0.002):\n",
    "        \"\"\"\n",
    "        Initializes the neural network.\n",
    "        :param hidden_layer1: Size of the first hidden layer used in the network.\n",
    "        :param output_layer: Size of the output layer used in the network.\n",
    "        :param input_size: Size of the input vectors fed into the network.\n",
    "        \"\"\"\n",
    "        self.size_h1 = tf.constant(hidden_layer1, dtype=tf.int32)\n",
    "        self.size_h2 = tf.constant(hidden_layer2, dtype=tf.int32)\n",
    "        self.X = tf.placeholder(\"float\", [None, input_size])\n",
    "        self.Y = tf.placeholder(\"float\", [None, output_layer])\n",
    "\n",
    "        # Initialize weight matrices\n",
    "        self.w_h1 = self.__init_weights(input_size, hidden_layer1)\n",
    "        self.w_h2 = self.__init_weights(hidden_layer1, hidden_layer2)\n",
    "        self.w_o = self.__init_weights(hidden_layer2, output_layer)\n",
    "\n",
    "        # Initialize the Neural Network model\n",
    "        self.py_x = self.__model()\n",
    "        self.cost = tf.reduce_mean(tf.nn.softmax_cross_entropy_with_logits(logits=self.py_x, labels=self.Y))\n",
    "        self.train_op = tf.train.GradientDescentOptimizer(learning_rate).minimize(self.cost)\n",
    "        self.predict_op = tf.argmax(self.py_x, 1)\n",
    "\n",
    "        # Cross-Validation attributes\n",
    "        self.accuracies = []\n",
    "        self.mean_accuracy = None\n",
    "\n",
    "    @staticmethod\n",
    "    def __init_weights(s1, s2):\n",
    "        sigma = math.sqrt(2) * math.sqrt(2 / (s1 + s2))\n",
    "        return tf.Variable(tf.random_normal([s1, s2], stddev=sigma))\n",
    "\n",
    "    def __model(self):\n",
    "        h1 = tf.nn.relu(tf.matmul(self.X, self.w_h1))\n",
    "        h2 = tf.nn.relu(tf.matmul(h1, self.w_h2))\n",
    "        return tf.matmul(h2, self.w_o)\n",
    "\n",
    "    def cross_validate(self, data, labels):\n",
    "        self.accuracies = []\n",
    "        fold = 1\n",
    "        for train_index, test_index in KFold(n_splits=10).split(data):\n",
    "            trX, teX = data[train_index], data[test_index]\n",
    "            trY, teY = labels[train_index], labels[test_index]\n",
    "\n",
    "            acc = 0\n",
    "            with tf.Session() as sess:\n",
    "                tf.global_variables_initializer().run()\n",
    "                for i in range(EPOCHS):\n",
    "                    for start, end in zip(range(0, len(trX), 128), range(128, len(trX) + 1, 128)):\n",
    "                        sess.run(self.train_op, feed_dict={self.X: trX[start:end], self.Y: trY[start:end]})\n",
    "                    acc = np.mean(np.argmax(teY, axis=1) == sess.run(self.predict_op, feed_dict={self.X: teX}))\n",
    "\n",
    "            self.accuracies.append(acc)\n",
    "            fold += 1\n",
    "\n",
    "        self.mean_accuracy = np.mean(self.accuracies)\n",
    "\n",
    "    def plot_accuracies(self, title):\n",
    "        fig = plt.figure()\n",
    "        ax = fig.add_subplot(111)\n",
    "        ax.plot(self.accuracies)\n",
    "\n",
    "        plt.xlabel('Fold Iteration')\n",
    "        plt.ylabel('Accuracy (%)')\n",
    "        plt.title(title)\n",
    "        plt.show()"
   ]
  },
  {
   "cell_type": "code",
   "execution_count": 91,
   "metadata": {},
   "outputs": [
    {
     "name": "stdout",
     "output_type": "stream",
     "text": [
      "Total dataset size:\n",
      "n_samples: 1288\n",
      "n_features: 1850\n",
      "n_classes: 7\n",
      "Total dataset size:\n",
      "n_samples: 1288\n",
      "n_features: 1850\n",
      "n_classes: 7\n",
      "(1288, 150)\n",
      "(1288, 1850)\n"
     ]
    }
   ],
   "source": [
    "data, labels = input_data(raw_data=True)\n",
    "data_pca, labels_pca = input_data(raw_data=False)\n",
    "print(data_pca.shape)\n",
    "print(data.shape)"
   ]
  },
  {
   "cell_type": "code",
   "execution_count": 92,
   "metadata": {
    "collapsed": true
   },
   "outputs": [],
   "source": [
    "X_train, X_test, y_train, y_test = train_test_split(data, labels, test_size=0.25, random_state=42)"
   ]
  },
  {
   "cell_type": "code",
   "execution_count": 95,
   "metadata": {},
   "outputs": [],
   "source": [
    "n1 = FeedForwardNetwork(200, 50, len(labels[0]), input_size=data[0].size, learning_rate=0.05)\n",
    "n1_pca = FeedForwardNetwork(200, 50, len(labels_pca[0]), input_size=data_pca[0].size, learning_rate=0.05)\n",
    "\n",
    "n2 = FeedForwardNetwork(160, 60, len(labels[0]), input_size=data[0].size, learning_rate=0.05)\n",
    "n2_pca = FeedForwardNetwork(160, 60, len(labels_pca[0]), input_size=data_pca[0].size, learning_rate=0.05)"
   ]
  },
  {
   "cell_type": "code",
   "execution_count": 99,
   "metadata": {},
   "outputs": [
    {
     "ename": "NameError",
     "evalue": "name 'KFold' is not defined",
     "output_type": "error",
     "traceback": [
      "\u001b[0;31m---------------------------------------------------------------------------\u001b[0m",
      "\u001b[0;31mNameError\u001b[0m                                 Traceback (most recent call last)",
      "\u001b[0;32m<ipython-input-99-94473f8b6006>\u001b[0m in \u001b[0;36m<module>\u001b[0;34m()\u001b[0m\n\u001b[0;32m----> 1\u001b[0;31m \u001b[0mn1\u001b[0m\u001b[0;34m.\u001b[0m\u001b[0mcross_validate\u001b[0m\u001b[0;34m(\u001b[0m\u001b[0mdata\u001b[0m\u001b[0;34m,\u001b[0m \u001b[0mlabels\u001b[0m\u001b[0;34m)\u001b[0m\u001b[0;34m\u001b[0m\u001b[0m\n\u001b[0m\u001b[1;32m      2\u001b[0m \u001b[0mn1\u001b[0m\u001b[0;34m.\u001b[0m\u001b[0mplot_accuracies\u001b[0m\u001b[0;34m(\u001b[0m\u001b[0;34m\"Hello\"\u001b[0m\u001b[0;34m)\u001b[0m\u001b[0;34m\u001b[0m\u001b[0m\n",
      "\u001b[0;32m<ipython-input-90-ff3ca59d9abd>\u001b[0m in \u001b[0;36mcross_validate\u001b[0;34m(self, data, labels)\u001b[0m\n\u001b[1;32m     40\u001b[0m         \u001b[0mself\u001b[0m\u001b[0;34m.\u001b[0m\u001b[0maccuracies\u001b[0m \u001b[0;34m=\u001b[0m \u001b[0;34m[\u001b[0m\u001b[0;34m]\u001b[0m\u001b[0;34m\u001b[0m\u001b[0m\n\u001b[1;32m     41\u001b[0m         \u001b[0mfold\u001b[0m \u001b[0;34m=\u001b[0m \u001b[0;36m1\u001b[0m\u001b[0;34m\u001b[0m\u001b[0m\n\u001b[0;32m---> 42\u001b[0;31m         \u001b[0;32mfor\u001b[0m \u001b[0mtrain_index\u001b[0m\u001b[0;34m,\u001b[0m \u001b[0mtest_index\u001b[0m \u001b[0;32min\u001b[0m \u001b[0mKFold\u001b[0m\u001b[0;34m(\u001b[0m\u001b[0mn_splits\u001b[0m\u001b[0;34m=\u001b[0m\u001b[0;36m10\u001b[0m\u001b[0;34m)\u001b[0m\u001b[0;34m.\u001b[0m\u001b[0msplit\u001b[0m\u001b[0;34m(\u001b[0m\u001b[0mdata\u001b[0m\u001b[0;34m)\u001b[0m\u001b[0;34m:\u001b[0m\u001b[0;34m\u001b[0m\u001b[0m\n\u001b[0m\u001b[1;32m     43\u001b[0m             \u001b[0mtrX\u001b[0m\u001b[0;34m,\u001b[0m \u001b[0mteX\u001b[0m \u001b[0;34m=\u001b[0m \u001b[0mdata\u001b[0m\u001b[0;34m[\u001b[0m\u001b[0mtrain_index\u001b[0m\u001b[0;34m]\u001b[0m\u001b[0;34m,\u001b[0m \u001b[0mdata\u001b[0m\u001b[0;34m[\u001b[0m\u001b[0mtest_index\u001b[0m\u001b[0;34m]\u001b[0m\u001b[0;34m\u001b[0m\u001b[0m\n\u001b[1;32m     44\u001b[0m             \u001b[0mtrY\u001b[0m\u001b[0;34m,\u001b[0m \u001b[0mteY\u001b[0m \u001b[0;34m=\u001b[0m \u001b[0mlabels\u001b[0m\u001b[0;34m[\u001b[0m\u001b[0mtrain_index\u001b[0m\u001b[0;34m]\u001b[0m\u001b[0;34m,\u001b[0m \u001b[0mlabels\u001b[0m\u001b[0;34m[\u001b[0m\u001b[0mtest_index\u001b[0m\u001b[0;34m]\u001b[0m\u001b[0;34m\u001b[0m\u001b[0m\n",
      "\u001b[0;31mNameError\u001b[0m: name 'KFold' is not defined"
     ]
    }
   ],
   "source": [
    "n1.cross_validate(data, labels)\n",
    "n1.plot_accuracies(\"Hello\")"
   ]
  },
  {
   "cell_type": "code",
   "execution_count": null,
   "metadata": {
    "collapsed": true
   },
   "outputs": [],
   "source": []
  },
  {
   "cell_type": "code",
   "execution_count": null,
   "metadata": {
    "collapsed": true
   },
   "outputs": [],
   "source": []
  }
 ],
 "metadata": {
  "kernelspec": {
   "display_name": "Python 3",
   "language": "python",
   "name": "python3"
  },
  "language_info": {
   "codemirror_mode": {
    "name": "ipython",
    "version": 3
   },
   "file_extension": ".py",
   "mimetype": "text/x-python",
   "name": "python",
   "nbconvert_exporter": "python",
   "pygments_lexer": "ipython3",
   "version": "3.5.4"
  }
 },
 "nbformat": 4,
 "nbformat_minor": 2
}
